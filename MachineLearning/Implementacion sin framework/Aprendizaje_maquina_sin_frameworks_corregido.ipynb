{
  "nbformat": 4,
  "nbformat_minor": 0,
  "metadata": {
    "colab": {
      "provenance": []
    },
    "kernelspec": {
      "name": "python3",
      "display_name": "Python 3"
    },
    "language_info": {
      "name": "python"
    }
  },
  "cells": [
    {
      "cell_type": "markdown",
      "source": [
        "# **Implementación de aprendizaje máquina sin frameworks**"
      ],
      "metadata": {
        "id": "FjqR-UtBeWoc"
      }
    },
    {
      "cell_type": "markdown",
      "source": [
        "## **Instrucciones**"
      ],
      "metadata": {
        "id": "NNwRBupvhQJ3"
      }
    },
    {
      "cell_type": "markdown",
      "source": [
        "**Momento de Retroalimentación: Módulo 2 Implementación de una técnica de aprendizaje máquina sin el uso de un framework. (Portafolio Implementación)**\n",
        "\n",
        "Entregable: Implementación de una técnica de aprendizaje máquina sin el uso de un framework.\n",
        "\n",
        "1.  Crea un repositorio de GitHub para este proyecto.\n",
        "2.  Programa uno de los algoritmos vistos en el módulo (o que tu profesor de módulo autorice) sin usar ninguna biblioteca o framework de aprendizaje máquina, ni de estadística avanzada. Lo que se busca es que implementes manualmente el algoritmo, no que importes un algoritmo ya implementado.\n",
        "3.  Prueba tu implementación con un set de datos y realiza algunas predicciones. Las predicciones las puedes correr en consola o las puedes implementar con una interfaz gráfica apoyándote en los visto en otros módulos.\n",
        "4.  Después de la entrega intermedia se te darán correcciones que puedes incluir en tu entrega final."
      ],
      "metadata": {
        "id": "_mQE6ZPCeeqp"
      }
    },
    {
      "cell_type": "markdown",
      "source": [
        "## **Introducción**\n",
        "*Correcion: Se agrego la descripción de los datos*"
      ],
      "metadata": {
        "id": "AXcLqDKsR83O"
      }
    },
    {
      "cell_type": "markdown",
      "source": [
        "Primero, comenzamos cargando el set de datos que utilizaremos para el modelo.\n",
        "\n",
        "En este caso serán los datos de **wine**. Este set de datos se puede encontrar en este link:\n",
        "\n",
        "https://github.com/FranciscoMest02/PortafolioImplementacionTC3006/tree/main/MachineLearning/Implementacion%20sin%20framework/data\n",
        "\n",
        "El set de datos consta de 178 registros, para tres clases diferentes de vino. Estas están solamente categorizadas como 1, 2 y 3.\n",
        "\n",
        "Las variables independientes son Alcohol, Malic acid, Ash, Alcalinity of ash, Magnesium, Total phenols, Flavanoids, Nonflavanoid phenols, Proanthocyanins, Color intensity, Hue, OD280/OD315 of diluted wines, Proline   \n",
        "\n",
        "A pesar de que el set de datos presenta tres clases y podríamos hacer un modelo de clasificación, trataremos de predecir una variable basado en otra variable. Esto para poder **implementar una regresión lineal**."
      ],
      "metadata": {
        "id": "P2jp_g5nSCoG"
      }
    },
    {
      "cell_type": "markdown",
      "source": [
        "## **Inicio de la solución**"
      ],
      "metadata": {
        "id": "Gy4FLCJhes1z"
      }
    },
    {
      "cell_type": "markdown",
      "source": [
        "Aquí iniciamos la información que vamos a usar en el problema, nos conectamos con google drive y nos movemos a la capeta donde se encuentra el dataset"
      ],
      "metadata": {
        "id": "JdGCEdW_e1ah"
      }
    },
    {
      "cell_type": "code",
      "execution_count": null,
      "metadata": {
        "id": "sAXmckLz1uOj",
        "colab": {
          "base_uri": "https://localhost:8080/"
        },
        "outputId": "af85a85c-aeea-498e-bd43-f48cae69f65b"
      },
      "outputs": [
        {
          "output_type": "stream",
          "name": "stdout",
          "text": [
            "Mounted at /content/gdrive\n",
            "/content\n",
            "/content/gdrive/MyDrive/Tec/ColabAI/wine\n",
            "wine.data  wine.names\n"
          ]
        }
      ],
      "source": [
        "#Cargamos los archivos\n",
        "from google.colab import drive  # importa libreria\n",
        "drive.mount(\"/content/gdrive\")  # utiliza comando\n",
        "\n",
        "!pwd\n",
        "\n",
        "#put your own path in google drive\n",
        "%cd '/content/gdrive/MyDrive/Tec/ColabAI/wine/'\n",
        "!ls"
      ]
    },
    {
      "cell_type": "markdown",
      "source": [
        "Importamos las librerias que vamos a utilizar. Depués leemos el archivo y para comprobar que todo está correto, imprimimos los primeros datos."
      ],
      "metadata": {
        "id": "6KQV75Mse_Qm"
      }
    },
    {
      "cell_type": "code",
      "source": [
        "import pandas as pd # importar libreria\n",
        "\n",
        "columns = [\"Class\",\"Alcohol\",\"Malic acid\",\"Ash\",\"Alcalinity of Ash\", \"Magnesium\",\"Total phenols\", \"Flavanoids\",\"Nonflavanoid phenols\", \"Proanthocyanins\",\"Color intensity\", \"HUE\",\"OD280/OD315 of diluted wines\", \"Proline\"] # definir nombres de columna manualmente\n",
        "df = pd.read_csv('wine.data', names = columns) # abrir el archivo de datos con los nombres dados para las columnas\n",
        "df.head() # mostrar las primeras líneas del dataset que se cargó\n",
        "df"
      ],
      "metadata": {
        "colab": {
          "base_uri": "https://localhost:8080/",
          "height": 441
        },
        "id": "liLw9j2R3Ma2",
        "outputId": "191d4be6-6835-438d-c7ec-31092f74a199"
      },
      "execution_count": null,
      "outputs": [
        {
          "output_type": "execute_result",
          "data": {
            "text/plain": [
              "     Class  Alcohol  Malic acid   Ash  Alcalinity of Ash  Magnesium  \\\n",
              "0        1    14.23        1.71  2.43               15.6        127   \n",
              "1        1    13.20        1.78  2.14               11.2        100   \n",
              "2        1    13.16        2.36  2.67               18.6        101   \n",
              "3        1    14.37        1.95  2.50               16.8        113   \n",
              "4        1    13.24        2.59  2.87               21.0        118   \n",
              "..     ...      ...         ...   ...                ...        ...   \n",
              "173      3    13.71        5.65  2.45               20.5         95   \n",
              "174      3    13.40        3.91  2.48               23.0        102   \n",
              "175      3    13.27        4.28  2.26               20.0        120   \n",
              "176      3    13.17        2.59  2.37               20.0        120   \n",
              "177      3    14.13        4.10  2.74               24.5         96   \n",
              "\n",
              "     Total phenols  Flavanoids  Nonflavanoid phenols  Proanthocyanins  \\\n",
              "0             2.80        3.06                  0.28             2.29   \n",
              "1             2.65        2.76                  0.26             1.28   \n",
              "2             2.80        3.24                  0.30             2.81   \n",
              "3             3.85        3.49                  0.24             2.18   \n",
              "4             2.80        2.69                  0.39             1.82   \n",
              "..             ...         ...                   ...              ...   \n",
              "173           1.68        0.61                  0.52             1.06   \n",
              "174           1.80        0.75                  0.43             1.41   \n",
              "175           1.59        0.69                  0.43             1.35   \n",
              "176           1.65        0.68                  0.53             1.46   \n",
              "177           2.05        0.76                  0.56             1.35   \n",
              "\n",
              "     Color intensity   HUE  OD280/OD315 of diluted wines  Proline  \n",
              "0               5.64  1.04                          3.92     1065  \n",
              "1               4.38  1.05                          3.40     1050  \n",
              "2               5.68  1.03                          3.17     1185  \n",
              "3               7.80  0.86                          3.45     1480  \n",
              "4               4.32  1.04                          2.93      735  \n",
              "..               ...   ...                           ...      ...  \n",
              "173             7.70  0.64                          1.74      740  \n",
              "174             7.30  0.70                          1.56      750  \n",
              "175            10.20  0.59                          1.56      835  \n",
              "176             9.30  0.60                          1.62      840  \n",
              "177             9.20  0.61                          1.60      560  \n",
              "\n",
              "[178 rows x 14 columns]"
            ],
            "text/html": [
              "\n",
              "  <div id=\"df-106f760f-f6a0-41cc-b8d6-257cab0845e9\" class=\"colab-df-container\">\n",
              "    <div>\n",
              "<style scoped>\n",
              "    .dataframe tbody tr th:only-of-type {\n",
              "        vertical-align: middle;\n",
              "    }\n",
              "\n",
              "    .dataframe tbody tr th {\n",
              "        vertical-align: top;\n",
              "    }\n",
              "\n",
              "    .dataframe thead th {\n",
              "        text-align: right;\n",
              "    }\n",
              "</style>\n",
              "<table border=\"1\" class=\"dataframe\">\n",
              "  <thead>\n",
              "    <tr style=\"text-align: right;\">\n",
              "      <th></th>\n",
              "      <th>Class</th>\n",
              "      <th>Alcohol</th>\n",
              "      <th>Malic acid</th>\n",
              "      <th>Ash</th>\n",
              "      <th>Alcalinity of Ash</th>\n",
              "      <th>Magnesium</th>\n",
              "      <th>Total phenols</th>\n",
              "      <th>Flavanoids</th>\n",
              "      <th>Nonflavanoid phenols</th>\n",
              "      <th>Proanthocyanins</th>\n",
              "      <th>Color intensity</th>\n",
              "      <th>HUE</th>\n",
              "      <th>OD280/OD315 of diluted wines</th>\n",
              "      <th>Proline</th>\n",
              "    </tr>\n",
              "  </thead>\n",
              "  <tbody>\n",
              "    <tr>\n",
              "      <th>0</th>\n",
              "      <td>1</td>\n",
              "      <td>14.23</td>\n",
              "      <td>1.71</td>\n",
              "      <td>2.43</td>\n",
              "      <td>15.6</td>\n",
              "      <td>127</td>\n",
              "      <td>2.80</td>\n",
              "      <td>3.06</td>\n",
              "      <td>0.28</td>\n",
              "      <td>2.29</td>\n",
              "      <td>5.64</td>\n",
              "      <td>1.04</td>\n",
              "      <td>3.92</td>\n",
              "      <td>1065</td>\n",
              "    </tr>\n",
              "    <tr>\n",
              "      <th>1</th>\n",
              "      <td>1</td>\n",
              "      <td>13.20</td>\n",
              "      <td>1.78</td>\n",
              "      <td>2.14</td>\n",
              "      <td>11.2</td>\n",
              "      <td>100</td>\n",
              "      <td>2.65</td>\n",
              "      <td>2.76</td>\n",
              "      <td>0.26</td>\n",
              "      <td>1.28</td>\n",
              "      <td>4.38</td>\n",
              "      <td>1.05</td>\n",
              "      <td>3.40</td>\n",
              "      <td>1050</td>\n",
              "    </tr>\n",
              "    <tr>\n",
              "      <th>2</th>\n",
              "      <td>1</td>\n",
              "      <td>13.16</td>\n",
              "      <td>2.36</td>\n",
              "      <td>2.67</td>\n",
              "      <td>18.6</td>\n",
              "      <td>101</td>\n",
              "      <td>2.80</td>\n",
              "      <td>3.24</td>\n",
              "      <td>0.30</td>\n",
              "      <td>2.81</td>\n",
              "      <td>5.68</td>\n",
              "      <td>1.03</td>\n",
              "      <td>3.17</td>\n",
              "      <td>1185</td>\n",
              "    </tr>\n",
              "    <tr>\n",
              "      <th>3</th>\n",
              "      <td>1</td>\n",
              "      <td>14.37</td>\n",
              "      <td>1.95</td>\n",
              "      <td>2.50</td>\n",
              "      <td>16.8</td>\n",
              "      <td>113</td>\n",
              "      <td>3.85</td>\n",
              "      <td>3.49</td>\n",
              "      <td>0.24</td>\n",
              "      <td>2.18</td>\n",
              "      <td>7.80</td>\n",
              "      <td>0.86</td>\n",
              "      <td>3.45</td>\n",
              "      <td>1480</td>\n",
              "    </tr>\n",
              "    <tr>\n",
              "      <th>4</th>\n",
              "      <td>1</td>\n",
              "      <td>13.24</td>\n",
              "      <td>2.59</td>\n",
              "      <td>2.87</td>\n",
              "      <td>21.0</td>\n",
              "      <td>118</td>\n",
              "      <td>2.80</td>\n",
              "      <td>2.69</td>\n",
              "      <td>0.39</td>\n",
              "      <td>1.82</td>\n",
              "      <td>4.32</td>\n",
              "      <td>1.04</td>\n",
              "      <td>2.93</td>\n",
              "      <td>735</td>\n",
              "    </tr>\n",
              "    <tr>\n",
              "      <th>...</th>\n",
              "      <td>...</td>\n",
              "      <td>...</td>\n",
              "      <td>...</td>\n",
              "      <td>...</td>\n",
              "      <td>...</td>\n",
              "      <td>...</td>\n",
              "      <td>...</td>\n",
              "      <td>...</td>\n",
              "      <td>...</td>\n",
              "      <td>...</td>\n",
              "      <td>...</td>\n",
              "      <td>...</td>\n",
              "      <td>...</td>\n",
              "      <td>...</td>\n",
              "    </tr>\n",
              "    <tr>\n",
              "      <th>173</th>\n",
              "      <td>3</td>\n",
              "      <td>13.71</td>\n",
              "      <td>5.65</td>\n",
              "      <td>2.45</td>\n",
              "      <td>20.5</td>\n",
              "      <td>95</td>\n",
              "      <td>1.68</td>\n",
              "      <td>0.61</td>\n",
              "      <td>0.52</td>\n",
              "      <td>1.06</td>\n",
              "      <td>7.70</td>\n",
              "      <td>0.64</td>\n",
              "      <td>1.74</td>\n",
              "      <td>740</td>\n",
              "    </tr>\n",
              "    <tr>\n",
              "      <th>174</th>\n",
              "      <td>3</td>\n",
              "      <td>13.40</td>\n",
              "      <td>3.91</td>\n",
              "      <td>2.48</td>\n",
              "      <td>23.0</td>\n",
              "      <td>102</td>\n",
              "      <td>1.80</td>\n",
              "      <td>0.75</td>\n",
              "      <td>0.43</td>\n",
              "      <td>1.41</td>\n",
              "      <td>7.30</td>\n",
              "      <td>0.70</td>\n",
              "      <td>1.56</td>\n",
              "      <td>750</td>\n",
              "    </tr>\n",
              "    <tr>\n",
              "      <th>175</th>\n",
              "      <td>3</td>\n",
              "      <td>13.27</td>\n",
              "      <td>4.28</td>\n",
              "      <td>2.26</td>\n",
              "      <td>20.0</td>\n",
              "      <td>120</td>\n",
              "      <td>1.59</td>\n",
              "      <td>0.69</td>\n",
              "      <td>0.43</td>\n",
              "      <td>1.35</td>\n",
              "      <td>10.20</td>\n",
              "      <td>0.59</td>\n",
              "      <td>1.56</td>\n",
              "      <td>835</td>\n",
              "    </tr>\n",
              "    <tr>\n",
              "      <th>176</th>\n",
              "      <td>3</td>\n",
              "      <td>13.17</td>\n",
              "      <td>2.59</td>\n",
              "      <td>2.37</td>\n",
              "      <td>20.0</td>\n",
              "      <td>120</td>\n",
              "      <td>1.65</td>\n",
              "      <td>0.68</td>\n",
              "      <td>0.53</td>\n",
              "      <td>1.46</td>\n",
              "      <td>9.30</td>\n",
              "      <td>0.60</td>\n",
              "      <td>1.62</td>\n",
              "      <td>840</td>\n",
              "    </tr>\n",
              "    <tr>\n",
              "      <th>177</th>\n",
              "      <td>3</td>\n",
              "      <td>14.13</td>\n",
              "      <td>4.10</td>\n",
              "      <td>2.74</td>\n",
              "      <td>24.5</td>\n",
              "      <td>96</td>\n",
              "      <td>2.05</td>\n",
              "      <td>0.76</td>\n",
              "      <td>0.56</td>\n",
              "      <td>1.35</td>\n",
              "      <td>9.20</td>\n",
              "      <td>0.61</td>\n",
              "      <td>1.60</td>\n",
              "      <td>560</td>\n",
              "    </tr>\n",
              "  </tbody>\n",
              "</table>\n",
              "<p>178 rows × 14 columns</p>\n",
              "</div>\n",
              "    <div class=\"colab-df-buttons\">\n",
              "\n",
              "  <div class=\"colab-df-container\">\n",
              "    <button class=\"colab-df-convert\" onclick=\"convertToInteractive('df-106f760f-f6a0-41cc-b8d6-257cab0845e9')\"\n",
              "            title=\"Convert this dataframe to an interactive table.\"\n",
              "            style=\"display:none;\">\n",
              "\n",
              "  <svg xmlns=\"http://www.w3.org/2000/svg\" height=\"24px\" viewBox=\"0 -960 960 960\">\n",
              "    <path d=\"M120-120v-720h720v720H120Zm60-500h600v-160H180v160Zm220 220h160v-160H400v160Zm0 220h160v-160H400v160ZM180-400h160v-160H180v160Zm440 0h160v-160H620v160ZM180-180h160v-160H180v160Zm440 0h160v-160H620v160Z\"/>\n",
              "  </svg>\n",
              "    </button>\n",
              "\n",
              "  <style>\n",
              "    .colab-df-container {\n",
              "      display:flex;\n",
              "      gap: 12px;\n",
              "    }\n",
              "\n",
              "    .colab-df-convert {\n",
              "      background-color: #E8F0FE;\n",
              "      border: none;\n",
              "      border-radius: 50%;\n",
              "      cursor: pointer;\n",
              "      display: none;\n",
              "      fill: #1967D2;\n",
              "      height: 32px;\n",
              "      padding: 0 0 0 0;\n",
              "      width: 32px;\n",
              "    }\n",
              "\n",
              "    .colab-df-convert:hover {\n",
              "      background-color: #E2EBFA;\n",
              "      box-shadow: 0px 1px 2px rgba(60, 64, 67, 0.3), 0px 1px 3px 1px rgba(60, 64, 67, 0.15);\n",
              "      fill: #174EA6;\n",
              "    }\n",
              "\n",
              "    .colab-df-buttons div {\n",
              "      margin-bottom: 4px;\n",
              "    }\n",
              "\n",
              "    [theme=dark] .colab-df-convert {\n",
              "      background-color: #3B4455;\n",
              "      fill: #D2E3FC;\n",
              "    }\n",
              "\n",
              "    [theme=dark] .colab-df-convert:hover {\n",
              "      background-color: #434B5C;\n",
              "      box-shadow: 0px 1px 3px 1px rgba(0, 0, 0, 0.15);\n",
              "      filter: drop-shadow(0px 1px 2px rgba(0, 0, 0, 0.3));\n",
              "      fill: #FFFFFF;\n",
              "    }\n",
              "  </style>\n",
              "\n",
              "    <script>\n",
              "      const buttonEl =\n",
              "        document.querySelector('#df-106f760f-f6a0-41cc-b8d6-257cab0845e9 button.colab-df-convert');\n",
              "      buttonEl.style.display =\n",
              "        google.colab.kernel.accessAllowed ? 'block' : 'none';\n",
              "\n",
              "      async function convertToInteractive(key) {\n",
              "        const element = document.querySelector('#df-106f760f-f6a0-41cc-b8d6-257cab0845e9');\n",
              "        const dataTable =\n",
              "          await google.colab.kernel.invokeFunction('convertToInteractive',\n",
              "                                                    [key], {});\n",
              "        if (!dataTable) return;\n",
              "\n",
              "        const docLinkHtml = 'Like what you see? Visit the ' +\n",
              "          '<a target=\"_blank\" href=https://colab.research.google.com/notebooks/data_table.ipynb>data table notebook</a>'\n",
              "          + ' to learn more about interactive tables.';\n",
              "        element.innerHTML = '';\n",
              "        dataTable['output_type'] = 'display_data';\n",
              "        await google.colab.output.renderOutput(dataTable, element);\n",
              "        const docLink = document.createElement('div');\n",
              "        docLink.innerHTML = docLinkHtml;\n",
              "        element.appendChild(docLink);\n",
              "      }\n",
              "    </script>\n",
              "  </div>\n",
              "\n",
              "\n",
              "<div id=\"df-1d086fb4-7cd2-4668-9f02-6aef72c41b6e\">\n",
              "  <button class=\"colab-df-quickchart\" onclick=\"quickchart('df-1d086fb4-7cd2-4668-9f02-6aef72c41b6e')\"\n",
              "            title=\"Suggest charts.\"\n",
              "            style=\"display:none;\">\n",
              "\n",
              "<svg xmlns=\"http://www.w3.org/2000/svg\" height=\"24px\"viewBox=\"0 0 24 24\"\n",
              "     width=\"24px\">\n",
              "    <g>\n",
              "        <path d=\"M19 3H5c-1.1 0-2 .9-2 2v14c0 1.1.9 2 2 2h14c1.1 0 2-.9 2-2V5c0-1.1-.9-2-2-2zM9 17H7v-7h2v7zm4 0h-2V7h2v10zm4 0h-2v-4h2v4z\"/>\n",
              "    </g>\n",
              "</svg>\n",
              "  </button>\n",
              "\n",
              "<style>\n",
              "  .colab-df-quickchart {\n",
              "      --bg-color: #E8F0FE;\n",
              "      --fill-color: #1967D2;\n",
              "      --hover-bg-color: #E2EBFA;\n",
              "      --hover-fill-color: #174EA6;\n",
              "      --disabled-fill-color: #AAA;\n",
              "      --disabled-bg-color: #DDD;\n",
              "  }\n",
              "\n",
              "  [theme=dark] .colab-df-quickchart {\n",
              "      --bg-color: #3B4455;\n",
              "      --fill-color: #D2E3FC;\n",
              "      --hover-bg-color: #434B5C;\n",
              "      --hover-fill-color: #FFFFFF;\n",
              "      --disabled-bg-color: #3B4455;\n",
              "      --disabled-fill-color: #666;\n",
              "  }\n",
              "\n",
              "  .colab-df-quickchart {\n",
              "    background-color: var(--bg-color);\n",
              "    border: none;\n",
              "    border-radius: 50%;\n",
              "    cursor: pointer;\n",
              "    display: none;\n",
              "    fill: var(--fill-color);\n",
              "    height: 32px;\n",
              "    padding: 0;\n",
              "    width: 32px;\n",
              "  }\n",
              "\n",
              "  .colab-df-quickchart:hover {\n",
              "    background-color: var(--hover-bg-color);\n",
              "    box-shadow: 0 1px 2px rgba(60, 64, 67, 0.3), 0 1px 3px 1px rgba(60, 64, 67, 0.15);\n",
              "    fill: var(--button-hover-fill-color);\n",
              "  }\n",
              "\n",
              "  .colab-df-quickchart-complete:disabled,\n",
              "  .colab-df-quickchart-complete:disabled:hover {\n",
              "    background-color: var(--disabled-bg-color);\n",
              "    fill: var(--disabled-fill-color);\n",
              "    box-shadow: none;\n",
              "  }\n",
              "\n",
              "  .colab-df-spinner {\n",
              "    border: 2px solid var(--fill-color);\n",
              "    border-color: transparent;\n",
              "    border-bottom-color: var(--fill-color);\n",
              "    animation:\n",
              "      spin 1s steps(1) infinite;\n",
              "  }\n",
              "\n",
              "  @keyframes spin {\n",
              "    0% {\n",
              "      border-color: transparent;\n",
              "      border-bottom-color: var(--fill-color);\n",
              "      border-left-color: var(--fill-color);\n",
              "    }\n",
              "    20% {\n",
              "      border-color: transparent;\n",
              "      border-left-color: var(--fill-color);\n",
              "      border-top-color: var(--fill-color);\n",
              "    }\n",
              "    30% {\n",
              "      border-color: transparent;\n",
              "      border-left-color: var(--fill-color);\n",
              "      border-top-color: var(--fill-color);\n",
              "      border-right-color: var(--fill-color);\n",
              "    }\n",
              "    40% {\n",
              "      border-color: transparent;\n",
              "      border-right-color: var(--fill-color);\n",
              "      border-top-color: var(--fill-color);\n",
              "    }\n",
              "    60% {\n",
              "      border-color: transparent;\n",
              "      border-right-color: var(--fill-color);\n",
              "    }\n",
              "    80% {\n",
              "      border-color: transparent;\n",
              "      border-right-color: var(--fill-color);\n",
              "      border-bottom-color: var(--fill-color);\n",
              "    }\n",
              "    90% {\n",
              "      border-color: transparent;\n",
              "      border-bottom-color: var(--fill-color);\n",
              "    }\n",
              "  }\n",
              "</style>\n",
              "\n",
              "  <script>\n",
              "    async function quickchart(key) {\n",
              "      const quickchartButtonEl =\n",
              "        document.querySelector('#' + key + ' button');\n",
              "      quickchartButtonEl.disabled = true;  // To prevent multiple clicks.\n",
              "      quickchartButtonEl.classList.add('colab-df-spinner');\n",
              "      try {\n",
              "        const charts = await google.colab.kernel.invokeFunction(\n",
              "            'suggestCharts', [key], {});\n",
              "      } catch (error) {\n",
              "        console.error('Error during call to suggestCharts:', error);\n",
              "      }\n",
              "      quickchartButtonEl.classList.remove('colab-df-spinner');\n",
              "      quickchartButtonEl.classList.add('colab-df-quickchart-complete');\n",
              "    }\n",
              "    (() => {\n",
              "      let quickchartButtonEl =\n",
              "        document.querySelector('#df-1d086fb4-7cd2-4668-9f02-6aef72c41b6e button');\n",
              "      quickchartButtonEl.style.display =\n",
              "        google.colab.kernel.accessAllowed ? 'block' : 'none';\n",
              "    })();\n",
              "  </script>\n",
              "</div>\n",
              "    </div>\n",
              "  </div>\n"
            ]
          },
          "metadata": {},
          "execution_count": 2
        }
      ]
    },
    {
      "cell_type": "markdown",
      "source": [
        "## **Definición del problema**"
      ],
      "metadata": {
        "id": "v677aS0DfL9n"
      }
    },
    {
      "cell_type": "markdown",
      "source": [
        "Como estamos usando un dataset nuevo, tenemos que ver que variables muestran un comportamiento lineal para poder probar el modelo lineal sobre ellos. Es por esto que a continuación se hace una matriz de correlación."
      ],
      "metadata": {
        "id": "AE3Flb1RfPWK"
      }
    },
    {
      "cell_type": "code",
      "source": [
        "# Select only the specified columns from the DataFrame\n",
        "selected_columns = df[columns]\n",
        "\n",
        "# Calculate the correlation matrix\n",
        "correlation_matrix = selected_columns.corr()\n",
        "\n",
        "# Display the correlation matrix\n",
        "print(correlation_matrix)"
      ],
      "metadata": {
        "colab": {
          "base_uri": "https://localhost:8080/"
        },
        "id": "-drCQASgXpHq",
        "outputId": "9fe825de-b83a-4638-862a-413d8210f1bc"
      },
      "execution_count": null,
      "outputs": [
        {
          "output_type": "stream",
          "name": "stdout",
          "text": [
            "                                 Class   Alcohol  Malic acid       Ash  \\\n",
            "Class                         1.000000 -0.328222    0.437776 -0.049643   \n",
            "Alcohol                      -0.328222  1.000000    0.094397  0.211545   \n",
            "Malic acid                    0.437776  0.094397    1.000000  0.164045   \n",
            "Ash                          -0.049643  0.211545    0.164045  1.000000   \n",
            "Alcalinity of Ash             0.517859 -0.310235    0.288500  0.443367   \n",
            "Magnesium                    -0.209179  0.270798   -0.054575  0.286587   \n",
            "Total phenols                -0.719163  0.289101   -0.335167  0.128980   \n",
            "Flavanoids                   -0.847498  0.236815   -0.411007  0.115077   \n",
            "Nonflavanoid phenols          0.489109 -0.155929    0.292977  0.186230   \n",
            "Proanthocyanins              -0.499130  0.136698   -0.220746  0.009652   \n",
            "Color intensity               0.265668  0.546364    0.248985  0.258887   \n",
            "HUE                          -0.617369 -0.071747   -0.561296 -0.074667   \n",
            "OD280/OD315 of diluted wines -0.788230  0.072343   -0.368710  0.003911   \n",
            "Proline                      -0.633717  0.643720   -0.192011  0.223626   \n",
            "\n",
            "                              Alcalinity of Ash  Magnesium  Total phenols  \\\n",
            "Class                                  0.517859  -0.209179      -0.719163   \n",
            "Alcohol                               -0.310235   0.270798       0.289101   \n",
            "Malic acid                             0.288500  -0.054575      -0.335167   \n",
            "Ash                                    0.443367   0.286587       0.128980   \n",
            "Alcalinity of Ash                      1.000000  -0.083333      -0.321113   \n",
            "Magnesium                             -0.083333   1.000000       0.214401   \n",
            "Total phenols                         -0.321113   0.214401       1.000000   \n",
            "Flavanoids                            -0.351370   0.195784       0.864564   \n",
            "Nonflavanoid phenols                   0.361922  -0.256294      -0.449935   \n",
            "Proanthocyanins                       -0.197327   0.236441       0.612413   \n",
            "Color intensity                        0.018732   0.199950      -0.055136   \n",
            "HUE                                   -0.273955   0.055398       0.433681   \n",
            "OD280/OD315 of diluted wines          -0.276769   0.066004       0.699949   \n",
            "Proline                               -0.440597   0.393351       0.498115   \n",
            "\n",
            "                              Flavanoids  Nonflavanoid phenols  \\\n",
            "Class                          -0.847498              0.489109   \n",
            "Alcohol                         0.236815             -0.155929   \n",
            "Malic acid                     -0.411007              0.292977   \n",
            "Ash                             0.115077              0.186230   \n",
            "Alcalinity of Ash              -0.351370              0.361922   \n",
            "Magnesium                       0.195784             -0.256294   \n",
            "Total phenols                   0.864564             -0.449935   \n",
            "Flavanoids                      1.000000             -0.537900   \n",
            "Nonflavanoid phenols           -0.537900              1.000000   \n",
            "Proanthocyanins                 0.652692             -0.365845   \n",
            "Color intensity                -0.172379              0.139057   \n",
            "HUE                             0.543479             -0.262640   \n",
            "OD280/OD315 of diluted wines    0.787194             -0.503270   \n",
            "Proline                         0.494193             -0.311385   \n",
            "\n",
            "                              Proanthocyanins  Color intensity       HUE  \\\n",
            "Class                               -0.499130         0.265668 -0.617369   \n",
            "Alcohol                              0.136698         0.546364 -0.071747   \n",
            "Malic acid                          -0.220746         0.248985 -0.561296   \n",
            "Ash                                  0.009652         0.258887 -0.074667   \n",
            "Alcalinity of Ash                   -0.197327         0.018732 -0.273955   \n",
            "Magnesium                            0.236441         0.199950  0.055398   \n",
            "Total phenols                        0.612413        -0.055136  0.433681   \n",
            "Flavanoids                           0.652692        -0.172379  0.543479   \n",
            "Nonflavanoid phenols                -0.365845         0.139057 -0.262640   \n",
            "Proanthocyanins                      1.000000        -0.025250  0.295544   \n",
            "Color intensity                     -0.025250         1.000000 -0.521813   \n",
            "HUE                                  0.295544        -0.521813  1.000000   \n",
            "OD280/OD315 of diluted wines         0.519067        -0.428815  0.565468   \n",
            "Proline                              0.330417         0.316100  0.236183   \n",
            "\n",
            "                              OD280/OD315 of diluted wines   Proline  \n",
            "Class                                            -0.788230 -0.633717  \n",
            "Alcohol                                           0.072343  0.643720  \n",
            "Malic acid                                       -0.368710 -0.192011  \n",
            "Ash                                               0.003911  0.223626  \n",
            "Alcalinity of Ash                                -0.276769 -0.440597  \n",
            "Magnesium                                         0.066004  0.393351  \n",
            "Total phenols                                     0.699949  0.498115  \n",
            "Flavanoids                                        0.787194  0.494193  \n",
            "Nonflavanoid phenols                             -0.503270 -0.311385  \n",
            "Proanthocyanins                                   0.519067  0.330417  \n",
            "Color intensity                                  -0.428815  0.316100  \n",
            "HUE                                               0.565468  0.236183  \n",
            "OD280/OD315 of diluted wines                      1.000000  0.312761  \n",
            "Proline                                           0.312761  1.000000  \n"
          ]
        }
      ]
    },
    {
      "cell_type": "markdown",
      "source": [
        "Podemos ver que, las variables de Total phenols y Flavanoids tienen una alta correlación, con un valor de 0.86 en la matriz. Es por esto que se seleccionan estas variables para hacer el modelo. Para visualizar su correlación podemos ver el siguiente gráfico."
      ],
      "metadata": {
        "id": "niphHIe_fdGK"
      }
    },
    {
      "cell_type": "code",
      "source": [
        "from matplotlib import pyplot as plt\n",
        "plt.scatter(df['Total phenols'],df['Flavanoids'],color='g')"
      ],
      "metadata": {
        "colab": {
          "base_uri": "https://localhost:8080/",
          "height": 447
        },
        "id": "lcU5MSF98aIr",
        "outputId": "d66748c1-9763-433c-d2ea-e4d917d4fd7e"
      },
      "execution_count": null,
      "outputs": [
        {
          "output_type": "execute_result",
          "data": {
            "text/plain": [
              "<matplotlib.collections.PathCollection at 0x7cf5f2f32770>"
            ]
          },
          "metadata": {},
          "execution_count": 4
        },
        {
          "output_type": "display_data",
          "data": {
            "text/plain": [
              "<Figure size 640x480 with 1 Axes>"
            ],
            "image/png": "[encoded data removed]"
          },
          "metadata": {}
        }
      ]
    },
    {
      "cell_type": "markdown",
      "source": [
        "## **Implementación de la regresión lineal**"
      ],
      "metadata": {
        "id": "VXAzRrbpfxhn"
      }
    },
    {
      "cell_type": "markdown",
      "source": [
        "Podemos ver que el comportamiento que tienen estas variables puede ser determinado por una regresión lineal. A partir de aquí iniciamos con su implementación."
      ],
      "metadata": {
        "id": "lsq5l3E0f0qy"
      }
    },
    {
      "cell_type": "markdown",
      "source": [
        "Definimos las variables que vamos a utilizar y les damos un eje (x y y). Además, inicializamos los valores del modelo para theta (coeficientes de la función de predicción) y alpha (taza de aprendizaje)"
      ],
      "metadata": {
        "id": "J_i5t6Bjf9Xb"
      }
    },
    {
      "cell_type": "code",
      "source": [
        "x = df['Total phenols']\n",
        "y = df['Flavanoids']\n",
        "\n",
        "# Crear lista con los hiper-parámetros iniciales (thetas)\n",
        "theta = [1,1]\n",
        "\n",
        "# Cargar el valor del learning rate (alpha)\n",
        "alpha = 0.1"
      ],
      "metadata": {
        "id": "4ZmMAv9qPsdq"
      },
      "execution_count": null,
      "outputs": []
    },
    {
      "cell_type": "markdown",
      "source": [
        "### Separacion de los datos\n",
        "*Correcion: Se agrego esta seccion para separar los datos en subsets*"
      ],
      "metadata": {
        "id": "dCDNm6aFjQgC"
      }
    },
    {
      "cell_type": "code",
      "source": [
        "#Correccion\n",
        "\n",
        "from sklearn.model_selection import train_test_split #importamos la funcion para hacer split de los datos\n",
        "\n",
        "#Otenemos nuestros datos de prueba, validacion y de entrenamiento\n",
        "X_train, X_test, y_train, y_test = train_test_split(x, y, test_size=0.2, random_state=42)"
      ],
      "metadata": {
        "id": "ogS6di6mjQRO"
      },
      "execution_count": null,
      "outputs": []
    },
    {
      "cell_type": "markdown",
      "source": [
        "Una vez definidas las variables iniciales, creamos nuestro modelo representado por h, el cual tiene la forma de una función lineal."
      ],
      "metadata": {
        "id": "Z14V0N2EgNZR"
      }
    },
    {
      "cell_type": "code",
      "source": [
        "# Crear función lambda para la función de hipótesis\n",
        "h = lambda x,theta: theta[0] + theta[1] * x\n",
        "\n",
        "# Calcular el total de muestras a partir de los datos (n)\n",
        "n = len(x)"
      ],
      "metadata": {
        "id": "qjmmayeTYssP"
      },
      "execution_count": null,
      "outputs": []
    },
    {
      "cell_type": "markdown",
      "source": [
        "Se inicia el proceso de calcular los valores necesarios para que theta se ajuste al modelo. No se usan tantas repeticiones ya que con estas es suficiente para llegar a un resultado estable."
      ],
      "metadata": {
        "id": "lksAmES7gaGP"
      }
    },
    {
      "cell_type": "code",
      "source": [
        "its = 10000 #Variable para definir el numero de iteraciones\n",
        "\n",
        "for i in range(its):\n",
        "  # Calcular delta para theta0 y para cada muestra\n",
        "  # Calcular delta para theta1 y para cada muestra\n",
        "  # Calcular sumatorias y promedio\n",
        "  delta = []\n",
        "  deltax = []\n",
        "  #Correccion, cambio a las variables de train\n",
        "  for xi,yi in zip(X_train,y_train):\n",
        "    pred = h(xi,theta)\n",
        "    delta.append(pred-yi)\n",
        "    deltax.append((pred-yi)*xi)\n",
        "\n",
        "  dJt0 = 1/n*sum(delta)\n",
        "  dJt1 = 1/n*sum(deltax)\n",
        "\n",
        "  theta[0] = theta[0] - alpha*dJt0\n",
        "  theta[1] = theta[1] - alpha*dJt1\n",
        "\n",
        "print(theta)"
      ],
      "metadata": {
        "colab": {
          "base_uri": "https://localhost:8080/"
        },
        "id": "JbMXLAD7Yxdj",
        "outputId": "41cc76bb-5c8e-4020-879c-77b4b8de2e55"
      },
      "execution_count": null,
      "outputs": [
        {
          "output_type": "stream",
          "name": "stdout",
          "text": [
            "[-1.0589220912589001, 1.337231001257542]\n"
          ]
        }
      ]
    },
    {
      "cell_type": "markdown",
      "source": [
        "Podemos ver que los valores finales de theta cambiaron, pero para comprobar que sean acertados, podemos gráficar los datos y la función de predicción"
      ],
      "metadata": {
        "id": "L3BqgM3ygo2F"
      }
    },
    {
      "cell_type": "code",
      "source": [
        "x_range = range(round(min(x)), round(max(x)) + 1)\n",
        "hypothesis_line = [h(x_val, theta) for x_val in x_range]\n",
        "plt.plot(x_range, hypothesis_line, color='blue', label='Hypothesis Line')\n",
        "plt.scatter(x, y,color='g')\n",
        "plt.show()"
      ],
      "metadata": {
        "colab": {
          "base_uri": "https://localhost:8080/",
          "height": 430
        },
        "id": "WMbQAAFCQgRF",
        "outputId": "028eb5b0-c466-42d9-9bff-f6deb7c13124"
      },
      "execution_count": null,
      "outputs": [
        {
          "output_type": "display_data",
          "data": {
            "text/plain": [
              "<Figure size 640x480 with 1 Axes>"
            ],
            "image/png": "[encoded data removed]"
          },
          "metadata": {}
        }
      ]
    },
    {
      "cell_type": "markdown",
      "source": [
        "En la gráfica se puede observar que la línea se ajusta correctamente al comportamiento de los datos."
      ],
      "metadata": {
        "id": "sJtw6VsFgzSa"
      }
    },
    {
      "cell_type": "markdown",
      "source": [
        "## **Pruebas**"
      ],
      "metadata": {
        "id": "l5z83dx_g5ZV"
      }
    },
    {
      "cell_type": "markdown",
      "source": [
        "Finalmente, podemos probar el modelo usando diferentes valores de Total Flavanoids, y los resultados que obtenemos tienen lógica en comparación de los datos obtenidos del dataset"
      ],
      "metadata": {
        "id": "ybuo25fKg777"
      }
    },
    {
      "cell_type": "markdown",
      "source": [
        "### Pruebas con valores especificos"
      ],
      "metadata": {
        "id": "Mz1BcT1-jsUT"
      }
    },
    {
      "cell_type": "markdown",
      "source": [
        "Para empezar a probar el modelo, podemos probar con datos aleatorios que no estén en el set de datos (pero que sí esten en el rango de los datos) para ver si los resultados también están en los rangos esperados."
      ],
      "metadata": {
        "id": "Tlf59ZbbCi1O"
      }
    },
    {
      "cell_type": "code",
      "source": [
        "h(2.5, theta)"
      ],
      "metadata": {
        "colab": {
          "base_uri": "https://localhost:8080/"
        },
        "id": "hVUF_ZjvabAJ",
        "outputId": "6e6d9538-91bd-46ed-d63b-b297dc5caeb2"
      },
      "execution_count": null,
      "outputs": [
        {
          "output_type": "execute_result",
          "data": {
            "text/plain": [
              "2.2841554118849547"
            ]
          },
          "metadata": {},
          "execution_count": 11
        }
      ]
    },
    {
      "cell_type": "code",
      "source": [
        "h(1.5, theta)"
      ],
      "metadata": {
        "colab": {
          "base_uri": "https://localhost:8080/"
        },
        "id": "tf1vVhila2cH",
        "outputId": "34641bec-4d8d-4e2c-ac3e-32de7fb34ffa"
      },
      "execution_count": null,
      "outputs": [
        {
          "output_type": "execute_result",
          "data": {
            "text/plain": [
              "0.9469244106274128"
            ]
          },
          "metadata": {},
          "execution_count": 12
        }
      ]
    },
    {
      "cell_type": "code",
      "source": [
        "h(4, theta)"
      ],
      "metadata": {
        "colab": {
          "base_uri": "https://localhost:8080/"
        },
        "id": "uIDRbdbha3ay",
        "outputId": "bd7eef62-a3b5-45d5-ed92-68490ae15916"
      },
      "execution_count": null,
      "outputs": [
        {
          "output_type": "execute_result",
          "data": {
            "text/plain": [
              "4.290001913771268"
            ]
          },
          "metadata": {},
          "execution_count": 13
        }
      ]
    },
    {
      "cell_type": "markdown",
      "source": [
        "### Pruebas con el set de datos de train\n",
        "*Correcion: Se agrego esta seccion*"
      ],
      "metadata": {
        "id": "vMa8UdEmq77M"
      }
    },
    {
      "cell_type": "markdown",
      "source": [
        "Antes de hacer pruebas con el set de datos de testing, podemos ver que tan bien hace las predicciones con los datos que ya ha visto."
      ],
      "metadata": {
        "id": "8SMU-W_cHtvq"
      }
    },
    {
      "cell_type": "code",
      "source": [
        "#Correcion\n",
        "\n",
        "y_pred = []\n",
        "for xi in X_train:\n",
        "  y_pred.append(h(xi, theta))\n",
        "\n",
        "print(y_pred)"
      ],
      "metadata": {
        "colab": {
          "base_uri": "https://localhost:8080/"
        },
        "id": "kIsikNrxrBC8",
        "outputId": "0021418e-ab51-491e-d28a-487a158d26a5"
      },
      "execution_count": null,
      "outputs": [
        {
          "output_type": "stream",
          "name": "stdout",
          "text": [
            "[2.685324712262217, 1.3347214009920998, 3.6481310331676475, 2.4178785120107094, 2.1504323117592, 2.096943071708899, 1.8829861115076925, 2.324272341922681, 1.6155399112561837, 2.685324712262217, 1.9231030415454182, 1.8829861115076925, 0.920179790602262, 2.2172938618220774, 1.5486783611933064, 3.2202171127652344, 2.752186262325094, 1.3480937110046753, 1.107392130778318, 1.8829861115076925, 1.4818168111304295, 2.4178785120107094, 2.2172938618220774, 2.4312508220232845, 0.2515642899734909, 2.351016961947831, 1.4149552610675526, 0.920179790602262, 1.8829861115076925, 2.2841554118849547, 2.1504323117592, 0.7864566904765076, 2.685324712262217, 2.1771769317843512, 2.2841554118849547, 0.6126166603130272, 1.0940198207657426, 2.8859093624508487, 1.2143706108789212, 2.4446231320358596, 2.685324712262217, 1.0137859606902897, 2.6050908521867653, 1.468444501117854, 2.952770912513726, 1.080647510753167, 2.8859093624508487, 3.153355562702357, 1.789379941419664, 2.4579954420484347, 2.2574107918598036, 0.478893560187273, 1.8829861115076925, 2.725441642299944, 1.8829861115076925, 2.952770912513726, 0.8800628605645355, 1.3213490909795247, 2.8190478123879714, 1.18762599085377, 1.1475090608160439, 3.0864940126394798, 2.9795155325388762, 1.107392130778318, 1.2143706108789212, 1.6422845312813343, 3.353940212890988, 2.8859093624508487, 2.4178785120107094, 1.2143706108789212, 2.0434538316585966, 1.7492630113819378, 1.1475090608160439, 1.281232160941798, 2.2306661718346525, 1.18762599085377, 2.952770912513726, 3.313823282853262, 2.0167092116334464, 4.089417263582637, 0.6527335903507536, 2.7923031923628203, 2.551601612136463, 2.1771769317843512, 1.2411152309040718, 2.0835707616963237, 3.2870786628281117, 2.4178785120107094, 2.765558572337669, 2.4713677520610107, 0.41203201012439616, 0.7864566904765076, 3.1934724927400833, 0.8800628605645355, 1.1475090608160439, 1.3480937110046753, 1.3882106410424015, 1.8829861115076925, 2.685324712262217, 3.0864940126394798, 1.588795291231033, 1.8829861115076925, 0.6794782103759045, 2.8859093624508487, 1.4550721911052784, 1.267859850929223, 1.6155399112561837, 1.5219337411681557, 0.7998290004890829, 3.6213864131424964, 2.4178785120107094, 0.7864566904765076, 2.578346232161614, 1.0672752007405915, 3.4876633130167427, 2.6184631621993404, 1.5486783611933064, 2.163804621771776, 2.952770912513726, 1.18762599085377, 1.7492630113819378, 2.2172938618220774, 1.4818168111304295, 1.0137859606902897, 2.4847400620735858, 4.129534193620363, 0.8265736205142338, 0.9602967206399879, 0.920179790602262, 2.2841554118849547, 2.752186262325094, 1.588795291231033, 1.5085614311555802, 3.4609186929915916, 3.1934724927400833, 1.6824014613190605, 2.952770912513726, 2.8859093624508487, 1.1475090608160439, 3.353940212890988, 0.7864566904765076, 2.364389271960407]\n"
          ]
        }
      ]
    },
    {
      "cell_type": "markdown",
      "source": [
        "Una vez que tenemos las predicciones para los datos que ya vio el modelo, podemos compararlas con los valores esperados. Estos resultados se muestran en la siguiente tabla."
      ],
      "metadata": {
        "id": "JLtIWalqH0Cw"
      }
    },
    {
      "cell_type": "code",
      "source": [
        "#Correcion\n",
        "import pandas as pd\n",
        "\n",
        "# Create a DataFrame\n",
        "dfResult = pd.DataFrame({'X_test': X_train, 'y_test': y_train, 'y_pred': y_pred})\n",
        "\n",
        "# Display the DataFrame\n",
        "print(dfResult)"
      ],
      "metadata": {
        "colab": {
          "base_uri": "https://localhost:8080/"
        },
        "id": "61S7lkqzrE4E",
        "outputId": "fa5992c8-9970-4c7d-8753-eef814d8dbbb"
      },
      "execution_count": null,
      "outputs": [
        {
          "output_type": "stream",
          "name": "stdout",
          "text": [
            "     X_test  y_test    y_pred\n",
            "158    2.80    1.31  2.685325\n",
            "137    1.79    0.60  1.334721\n",
            "98     3.52    3.75  3.648131\n",
            "159    2.60    1.10  2.417879\n",
            "38     2.40    2.64  2.150432\n",
            "..      ...     ...       ...\n",
            "71     2.95    2.86  2.885909\n",
            "106    1.65    2.03  1.147509\n",
            "14     3.30    3.64  3.353940\n",
            "92     1.38    1.46  0.786457\n",
            "102    2.56    2.11  2.364389\n",
            "\n",
            "[142 rows x 3 columns]\n"
          ]
        }
      ]
    },
    {
      "cell_type": "markdown",
      "source": [
        "Y para ver el desempeño, podemos usar el $R^2$ y el **mean squared error (MSE)**. Estas metricas nos indicarán que tan bien el modelo representa a lso datos y que tanto error hay en las predicciones, respectivamente.\n",
        "\n",
        "Los resultados que obtenemos no son los mejores, pero el modelo es algo decente para predecir los datos."
      ],
      "metadata": {
        "id": "k9HC8n4DIF3l"
      }
    },
    {
      "cell_type": "code",
      "source": [
        "#Correcion\n",
        "from sklearn.metrics import r2_score\n",
        "r2 = r2_score(y_train, y_pred) #R-squared (R2) Score\n",
        "r2"
      ],
      "metadata": {
        "colab": {
          "base_uri": "https://localhost:8080/"
        },
        "id": "smKjhYWtrIef",
        "outputId": "6627d10c-7017-4149-dcf3-52dd33449249"
      },
      "execution_count": null,
      "outputs": [
        {
          "output_type": "execute_result",
          "data": {
            "text/plain": [
              "0.7211939017296785"
            ]
          },
          "metadata": {},
          "execution_count": 34
        }
      ]
    },
    {
      "cell_type": "code",
      "source": [
        "#Correcion\n",
        "from sklearn.metrics import mean_squared_error\n",
        "mse = mean_squared_error(y_train, y_pred) #Mean Squared Error (MSE)\n",
        "print(\"Intervalo: \" + str(min(x)) + \" - \" + str(max(x)))\n",
        "print(mse)"
      ],
      "metadata": {
        "colab": {
          "base_uri": "https://localhost:8080/"
        },
        "id": "Ib-CqffyrLJm",
        "outputId": "13bba2e4-d2a6-4f09-b58e-371973bc4729"
      },
      "execution_count": null,
      "outputs": [
        {
          "output_type": "stream",
          "name": "stdout",
          "text": [
            "Intervalo: 0.98 - 3.88\n",
            "0.2791563066048282\n"
          ]
        }
      ]
    },
    {
      "cell_type": "markdown",
      "source": [
        "### Pruebas con set de datos de test\n",
        "*Correcion: Se agrego esta seccion*"
      ],
      "metadata": {
        "id": "JK9ktrtQjyRO"
      }
    },
    {
      "cell_type": "markdown",
      "source": [
        "Ahora, probemos si el modelo es bueno utilizando el set de datos de testing. A continuación se hacen las predicciones para este set de datos."
      ],
      "metadata": {
        "id": "JkFMPe1-Culi"
      }
    },
    {
      "cell_type": "code",
      "source": [
        "#Correcion\n",
        "\n",
        "y_pred = []\n",
        "for xi in X_test:\n",
        "  y_pred.append(h(xi, theta))\n",
        "\n",
        "print(y_pred)"
      ],
      "metadata": {
        "colab": {
          "base_uri": "https://localhost:8080/"
        },
        "id": "yrk9otafj1rs",
        "outputId": "8f4bccf3-48f1-40ec-feed-d09127d72a35"
      },
      "execution_count": null,
      "outputs": [
        {
          "output_type": "stream",
          "name": "stdout",
          "text": [
            "[2.551601612136463, 2.752186262325094, 1.0004136506777146, 2.952770912513726, 1.762635321394513, 2.685324712262217, 1.6155399112561837, 1.3480937110046753, 2.6050908521867653, 0.8132013105016584, 2.324272341922681, 0.8132013105016584, 2.2172938618220774, 1.1207644407908932, 2.752186262325094, 2.351016961947831, 2.2574107918598036, 1.6155399112561837, 2.926026292488575, 2.364389271960407, 3.353940212890988, 2.926026292488575, 1.6824014613190605, 1.588795291231033, 0.7998290004890829, 0.7463397604387816, 1.6155399112561837, 2.1771769317843512, 1.080647510753167, 2.899281672463424, 2.4847400620735858, 1.9097307315328431, 0.9469244106274128, 2.765558572337669, 2.4178785120107094, 3.2870786628281117]\n"
          ]
        }
      ]
    },
    {
      "cell_type": "markdown",
      "source": [
        "Podemos hacer una comparación de los resultados esperados (y_test) y los resultados obtenidos (y_pred). En la siguiente tabla se ven los resultados, que aunque no son exactos, son bastante parecidos."
      ],
      "metadata": {
        "id": "ozMolcqYC5Ob"
      }
    },
    {
      "cell_type": "code",
      "source": [
        "#Correcion\n",
        "\n",
        "# Create a DataFrame\n",
        "dfResult = pd.DataFrame({'X_test': X_test, 'y_test': y_test, 'y_pred': y_pred})\n",
        "\n",
        "# Display the DataFrame\n",
        "print(dfResult)"
      ],
      "metadata": {
        "colab": {
          "base_uri": "https://localhost:8080/"
        },
        "id": "LhW67ofhkysw",
        "outputId": "696eac79-db49-4c0a-c353-a3bd2af36158"
      },
      "execution_count": null,
      "outputs": [
        {
          "output_type": "stream",
          "name": "stdout",
          "text": [
            "     X_test  y_test    y_pred\n",
            "19     2.70    3.03  2.551602\n",
            "45     2.85    2.65  2.752186\n",
            "140    1.54    0.50  1.000414\n",
            "30     3.00    3.25  2.952771\n",
            "67     2.11    2.00  1.762635\n",
            "16     2.80    3.14  2.685325\n",
            "119    2.00    1.64  1.615540\n",
            "174    1.80    0.75  1.348094\n",
            "109    2.74    2.92  2.605091\n",
            "141    1.40    0.50  0.813201\n",
            "24     2.53    2.61  2.324272\n",
            "150    1.40    1.57  0.813201\n",
            "41     2.45    2.68  2.217294\n",
            "118    1.63    1.25  1.120764\n",
            "15     2.85    2.91  2.752186\n",
            "111    2.55    2.27  2.351017\n",
            "113    2.48    2.01  2.257411\n",
            "82     2.00    1.58  1.615540\n",
            "9      2.98    3.15  2.926026\n",
            "114    2.56    2.29  2.364389\n",
            "18     3.30    3.93  3.353940\n",
            "66     2.98    3.18  2.926026\n",
            "60     2.05    1.09  1.682401\n",
            "169    1.98    0.96  1.588795\n",
            "171    1.39    0.51  0.799829\n",
            "164    1.35    0.68  0.746340\n",
            "117    2.00    2.09  1.615540\n",
            "65     2.42    2.65  2.177177\n",
            "90     1.60    1.50  1.080648\n",
            "55     2.96    2.78  2.899282\n",
            "29     2.65    2.33  2.484740\n",
            "128    2.22    2.45  1.909731\n",
            "145    1.50    0.55  0.946924\n",
            "31     2.86    3.19  2.765559\n",
            "12     2.60    2.76  2.417879\n",
            "42     3.25    3.56  3.287079\n"
          ]
        }
      ]
    },
    {
      "cell_type": "markdown",
      "source": [
        "Finalmente, para ver el desempeño del modelo podemos usar las metricas de **$R^2$** para determinar que tan bien nuestra regresión lineal representa a los datos. En este caso, tenemos un valor de 0.85, por lo que es un modelo bastante bueno para hacer las predicciones."
      ],
      "metadata": {
        "id": "lKVLu5-QDRBH"
      }
    },
    {
      "cell_type": "code",
      "source": [
        "#Correcion\n",
        "from sklearn.metrics import r2_score\n",
        "r2 = r2_score(y_test, y_pred) #R-squared (R2) Score\n",
        "r2"
      ],
      "metadata": {
        "colab": {
          "base_uri": "https://localhost:8080/"
        },
        "id": "zH60A3hFltsy",
        "outputId": "0c8d73bc-f0e8-4064-b818-40c5d78658cc"
      },
      "execution_count": null,
      "outputs": [
        {
          "output_type": "execute_result",
          "data": {
            "text/plain": [
              "0.8481877673672711"
            ]
          },
          "metadata": {},
          "execution_count": 38
        }
      ]
    },
    {
      "cell_type": "markdown",
      "source": [
        "Por el otro lado, podemos verificar que tanto error tiene el modelo al momento de hacer las predicciones usando **MSE (Mean Squared Error)**. En promedio tiene un error de 0.1430 en las predicciones. Si vemos el rango de los valores, podemos decir que el modelo no es super precisio pero tiene un error aceptable"
      ],
      "metadata": {
        "id": "-w6_YbkFGcnT"
      }
    },
    {
      "cell_type": "code",
      "source": [
        "#Correcion\n",
        "from sklearn.metrics import mean_squared_error\n",
        "mse = mean_squared_error(y_test, y_pred) #Mean Squared Error (MSE)\n",
        "print(\"Intervalo: \" + str(min(x)) + \" - \" + str(max(x)))\n",
        "print(mse)"
      ],
      "metadata": {
        "colab": {
          "base_uri": "https://localhost:8080/"
        },
        "id": "uZCawB6RmhIO",
        "outputId": "668e449a-da46-4d2f-dfd3-33d4d269627b"
      },
      "execution_count": null,
      "outputs": [
        {
          "output_type": "stream",
          "name": "stdout",
          "text": [
            "Intervalo: 0.98 - 3.88\n",
            "0.14295664791546162\n"
          ]
        }
      ]
    }
  ]
}